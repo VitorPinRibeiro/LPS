{
 "cells": [
  {
   "cell_type": "markdown",
   "metadata": {},
   "source": [
    "# _Physarum_ Learner\n",
    "\n",
    "This notebook presents the implementation and the documentation of the \"Physarum Learner\" algorithm, as proposed in __[Physarum Learner: A bio-inspired way of learning structure from data](dx.doi.org/10.1016/j.eswa.2014.03.002)__, by Schön et al."
   ]
  },
  {
   "cell_type": "markdown",
   "metadata": {},
   "source": [
    "## Import section\n",
    "\n",
    "Here we present the libraries used during the execution of the code.\n",
    "\n",
    "The purpose of each library is:\n",
    "-  _pandas_ is needed in order to import the data from the chosen dataset in an easy way;\n",
    "-  _numpy_ is used for several math functionalities used throughout the code;\n",
    "-  _networkx_ has a lot of graph structures and utilities needed for the implementation of a Bayesian Network based code;\n",
    "-  _pgmpy_ has several functionalities related to Bayesian Networks, and is invoked here mostly for its BDeu scoring functions;\n",
    "-  _time_ is needed to get the time spent on the execution of the main algorithm."
   ]
  },
  {
   "cell_type": "code",
   "execution_count": 8,
   "metadata": {
    "ExecuteTime": {
     "end_time": "2019-04-22T19:06:09.668083Z",
     "start_time": "2019-04-22T19:06:09.664486Z"
    }
   },
   "outputs": [],
   "source": [
    "import pandas as pd\n",
    "import numpy as np\n",
    "import networkx as nx\n",
    "from pgmpy.estimators import BdeuScore\n",
    "import time\n",
    "from scipy.linalg import lapack\n"
   ]
  },
  {
   "cell_type": "markdown",
   "metadata": {},
   "source": [
    "## Custom Class\n",
    "\n",
    "This code section presents the class \"info\", used to store edges information, according to the original _Physarum Solver_ algorithm. The _cond_ variable corresponds to that path's conductance $ D_{ij} $, and the _length_ variable stores the path's length $ L_{ij} $. For more information, please check __[_Physarum_ solver: A biologically inspired method of road-network navigation](https://doi.org/10.1016/j.physa.2006.01.053)__, by Tero, A., Kobayashi, R., and Nakagaki, T."
   ]
  },
  {
   "cell_type": "code",
   "execution_count": 9,
   "metadata": {
    "ExecuteTime": {
     "end_time": "2019-04-22T19:06:09.999637Z",
     "start_time": "2019-04-22T19:06:09.900051Z"
    }
   },
   "outputs": [],
   "source": [
    "class info:\n",
    "    def __init__(self, cond, length):\n",
    "        self.cond = cond\n",
    "        self.length = length\n",
    "        "
   ]
  },
  {
   "cell_type": "markdown",
   "metadata": {},
   "source": [
    "## Global variables\n",
    "\n",
    "In order to create the least amount of overhead when calling several nested functions, and to access the needed information without creating a copy of the whole structure, these variables were declared and used as global, which means that every function is able to see and change their contents as needed. A brief explanation about the usage of each one follows:\n",
    "-  _maze_: stores the _Physarum_ maze which will be iterated upon, somewhat according to the aforementioned articles;\n",
    "-  _partNetwork_: contais the best network found so far on a particular ensemble;\n",
    "-  _bestNetwork_: is used to store the best network found among all ensembles;\n",
    "-  _bdeu_: object of _BdeuScore_ class from _pgmpy_, used for the scoring of the networks found;\n",
    "-  _df_: the dataframe which contains the data to be used on the creation of the networks;\n",
    "-  _Dt_: base conductance used to several calculations."
   ]
  },
  {
   "cell_type": "code",
   "execution_count": 10,
   "metadata": {
    "ExecuteTime": {
     "end_time": "2019-04-22T19:06:10.159393Z",
     "start_time": "2019-04-22T19:06:10.126305Z"
    }
   },
   "outputs": [],
   "source": [
    "maze = nx.Graph()\n",
    "partNetwork = nx.DiGraph()\n",
    "bestNetwork = nx.DiGraph()\n",
    "bdeu = 0\n",
    "df = 0\n",
    "Dt = 0.8\n"
   ]
  },
  {
   "cell_type": "markdown",
   "metadata": {},
   "source": [
    "## Auxiliary functions\n",
    "\n",
    "Because of the high complexity of the algorithm implemented, several auxiliary functions had to be created in order to perform repetitive tasks and allow for a better code in terms of legibility. This section presents each one of them, as well as some comments about its usage.\n",
    "\n",
    "### Partial _Physarum_ solver\n",
    "\n",
    "As the core of the algorithm implemented, the so-called _pPhySolve_ function here presented is used to perform one single iteration of the original _Physarum_ solver (that's why we called it \"partial\" here). As arguments, the function receives two numbers that identify two nodes in the global _Physarum_ maze already introduced, and updates the conductance of the edges accordingly."
   ]
  },
  {
   "cell_type": "code",
   "execution_count": 11,
   "metadata": {
    "ExecuteTime": {
     "end_time": "2019-04-22T19:06:10.387700Z",
     "start_time": "2019-04-22T19:06:10.370558Z"
    }
   },
   "outputs": [],
   "source": [
    "def pPhySolve(source, sink):    \n",
    "    \n",
    "    global maze\n",
    "    \n",
    "    #Informations used during the method.\n",
    "    Io = 3\n",
    "    w = 0.5\n",
    "    l = 0.2\n",
    "    \n",
    "    num_nodes = 0\n",
    "    \n",
    "    for i in maze.nodes():\n",
    "        num_nodes += 1\n",
    "    \n",
    "    A = np.empty([num_nodes, num_nodes])\n",
    "    b = np.zeros(num_nodes)\n",
    "        \n",
    "    #Setting up the linear system Ax=b.\n",
    "    for i in range(num_nodes):\n",
    "        acc = 0.0\n",
    "        for j in range(num_nodes):\n",
    "            if(i != j):\n",
    "                if(maze.has_edge(i, j)):\n",
    "                    A[i][j] = (maze.edges[i, j]['path'].cond)/(maze.edges[i, j]['path'].length)\n",
    "                    acc += A[i][j]\n",
    "                else:\n",
    "                    A[i][j] = 0\n",
    "        A[i][i] = -acc\n",
    "        if (i == source):\n",
    "            b[i] = -Io\n",
    "        elif (i == sink):\n",
    "            b[i] = Io\n",
    "\n",
    "    #Solve the system to get partial pressures at nodes.\n",
    "    pres = psolve(A, b)\n",
    "\n",
    "    #Leveling pressures according to sink's.\n",
    "    if(pres[sink] < 0):\n",
    "        for i in range(num_nodes):\n",
    "            if (i != sink):\n",
    "                pres[i] -= pres[sink]\n",
    "        pres[sink] -= pres[sink]\n",
    "    else:\n",
    "        for i in range(num_nodes):\n",
    "            if (i != sink):\n",
    "                pres[i] += pres[sink]\n",
    "        pres[sink] += pres[sink]\n",
    "\n",
    "\n",
    "    #Calculate the flow through each edge and update its conductance.\n",
    "    for (i, j) in maze.edges():\n",
    "        q_part = (maze.edges[i, j]['path'].cond)/(maze.edges[i, j]['path'].length)\n",
    "        q = q_part*(pres[i]-pres[j])\n",
    "\n",
    "        f = feedback(np.absolute(q))\n",
    "\n",
    "        maze.edges[i, j]['path'].cond = (w*f)+(1-l*w)*maze.edges[i, j]['path'].cond\n",
    "        "
   ]
  },
  {
   "cell_type": "markdown",
   "metadata": {},
   "source": [
    "### Feedback function\n",
    "\n",
    "\n",
    "In accordance to the original _Physarum_ solver method, the conductance of the edges is modeled by a positive feedback relation with the flux passing through that edge in a given iteration. This function implements this feedback factor, and is calculated separately in order to be easily changed for another, this one being from the same or from a different type than the one used here. Again, for more information about the feedback function types, please check the original _Physarum_ solver article.\n",
    "\n",
    "This function implements the type-I feedback function $ f(Q_{ij}) = Q_{ij}^\\mu $, where $ \\mu $ is set to $1$."
   ]
  },
  {
   "cell_type": "code",
   "execution_count": 12,
   "metadata": {
    "ExecuteTime": {
     "end_time": "2019-04-22T19:06:10.605183Z",
     "start_time": "2019-04-22T19:06:10.602102Z"
    }
   },
   "outputs": [],
   "source": [
    "def feedback(q):\n",
    "    mi = 1\n",
    "    return np.power(q, mi)\n"
   ]
  },
  {
   "cell_type": "markdown",
   "metadata": {},
   "source": [
    "### Linear system solving\n",
    "\n",
    "The _Physarum_ solver method relies on the creation and solution of a linear system in the form $A\\cdot x = b$, where A may be singular, i. e. its determinant is zero, which prevents the regular _numpy_'s linear system solver to be directly used. As such, we had to find an implementation of a \"partial solver\" which uses the Moore-Penrose pseudo-inverse of a matrix. The code below was based on the one presented __[here](https://github.com/numpy/numpy/blob/master/numpy/linalg/linalg.py)__."
   ]
  },
  {
   "cell_type": "code",
   "execution_count": 13,
   "metadata": {
    "ExecuteTime": {
     "end_time": "2019-04-22T19:06:10.814904Z",
     "start_time": "2019-04-22T19:06:10.804984Z"
    }
   },
   "outputs": [],
   "source": [
    "def pinv(a, rcond=1e-15):\n",
    "    \n",
    "    rcond = np.asarray(rcond)\n",
    "    u, s, vt = np.linalg.svd(a, full_matrices=False)\n",
    "\n",
    "    # discard small singular values\n",
    "    cutoff = rcond[..., np.newaxis] * np.amax(s, axis=-1, keepdims=True)\n",
    "    large = s > cutoff\n",
    "    s = np.divide(1, s, where=large, out=s)\n",
    "    s[~large] = 0\n",
    "\n",
    "    res = np.matmul(np.swapaxes(vt, -1, -2),\n",
    "                    np.multiply(s[..., np.newaxis], np.swapaxes(u, -1, -2)))\n",
    "    return res\n",
    "\n",
    "\n",
    "def psolve(a, b):\n",
    "    \n",
    "    lu, piv, x, info = lapack.dgesv(a, b)\n",
    "    \n",
    "    if (info != 0):\n",
    "        newaxis = (a.ndim == b.ndim + 1)\n",
    "        if newaxis:\n",
    "            b = b[..., np.newaxis]\n",
    "        ai = pinv(a)\n",
    "        x = np.matmul(ai, b)\n",
    "        if newaxis:\n",
    "            x = x[..., 0]\n",
    "    \n",
    "    return x\n"
   ]
  },
  {
   "cell_type": "markdown",
   "metadata": {},
   "source": [
    "### Scoring functions\n",
    "\n",
    "The _Physarum_ learner algorithm needs a set of scoring functions in order to create and compare networks. These two functions use the Bayesian Dirichlet equivalent uniform (BDeu) score.\n",
    "\n",
    "The first function calculates the score of a whole given network, through the sum of the scores obtained by each of its nodes and the parents from those. The second function is used to find the score improvement from creating the edge, compared to the graph not having it."
   ]
  },
  {
   "cell_type": "code",
   "execution_count": 14,
   "metadata": {
    "ExecuteTime": {
     "end_time": "2019-04-22T19:06:11.029624Z",
     "start_time": "2019-04-22T19:06:11.019890Z"
    }
   },
   "outputs": [],
   "source": [
    "def calcScore(network):\n",
    "    \n",
    "    global df\n",
    "    \n",
    "    if network is None:\n",
    "        return np.finfo(float).min\n",
    "    \n",
    "    else:\n",
    "        score = 0\n",
    "    \n",
    "        for i in network.nodes():\n",
    "            score += bdeu.local_score(df.columns[i], [df.columns[j] for j in network.predecessors(i)])\n",
    "        \n",
    "        return score\n",
    "\n",
    "def calcLocalScore(network, i, j):\n",
    "    \n",
    "    global df\n",
    "    \n",
    "    auxlist = [df.columns[k] for k in network.predecessors(j)]\n",
    "    \n",
    "    if network.has_edge(i, j) is False:\n",
    "        score1 = bdeu.local_score(df.columns[j], auxlist)\n",
    "    \n",
    "        score2 = bdeu.local_score(df.columns[j], auxlist+[df.columns[i]])\n",
    "        \n",
    "        return (score2-score1)\n",
    "    \n",
    "    else:\n",
    "        score1 = bdeu.local_score(df.columns[j], auxlist)\n",
    "        \n",
    "        index = auxlist.index(df.columns[i])\n",
    "        \n",
    "        del auxlist[index]\n",
    "        \n",
    "        score2 = bdeu.local_score(df.columns[j], auxlist)\n",
    "        \n",
    "        return (score1-score2)\n"
   ]
  },
  {
   "cell_type": "markdown",
   "metadata": {},
   "source": [
    "### Checking for cycles\n",
    "\n",
    "According to the theory of Bayesian networks, the graph representing it has to have no edges. To comply with this, this function simply creates an edge between two nodes whose identifiers were obtained through its parameters, and check if this operation generated a cycle on the graph. Independently of the result of the check, the edge is removed before the return of the function, to maintain the integrity of the graph. The return values are _True_ if the addition of the edge does not create a cycle, and _False_ otherwise."
   ]
  },
  {
   "cell_type": "code",
   "execution_count": 15,
   "metadata": {
    "ExecuteTime": {
     "end_time": "2019-04-22T19:06:11.258640Z",
     "start_time": "2019-04-22T19:06:11.252452Z"
    }
   },
   "outputs": [],
   "source": [
    "def tryEdge(B, i, j):\n",
    "    \n",
    "    B.add_edge(i, j)\n",
    "    \n",
    "    try:\n",
    "        nx.find_cycle(B, source=j, orientation='reverse')\n",
    "        \n",
    "    except nx.NetworkXNoCycle:\n",
    "        B.remove_edge(i, j)\n",
    "        return True\n",
    "        \n",
    "    else:\n",
    "        B.remove_edge(i, j)\n",
    "        return False\n",
    "        "
   ]
  },
  {
   "cell_type": "markdown",
   "metadata": {},
   "source": [
    "## Core functions\n",
    "\n",
    "With the \"minor\" functions presented, we now introduce the three core functions this algorithm is based upon. For more information on any code fragment, please read the comments on the source code provided and/or access the _Physarum_ learner original article.\n",
    "\n",
    "### Evaluate function\n",
    "\n",
    "The purpose of this function, in general terms, is to evaluate the _Physarum_ maze and decide which edges will be put on the network _partNetwork_, in order to decrease its BDeu score. To achieve that it checks the quality of the edges between the nodes, the possibility of adding the edge according to the \"no cycle\" restriction, and the improvement caused by this addition to the overall network structure.\n"
   ]
  },
  {
   "cell_type": "code",
   "execution_count": 16,
   "metadata": {
    "ExecuteTime": {
     "end_time": "2019-04-22T19:06:11.526472Z",
     "start_time": "2019-04-22T19:06:11.508032Z"
    }
   },
   "outputs": [],
   "source": [
    "def evaluate():\n",
    "    \n",
    "    global maze\n",
    "    global partNetwork, bestNetwork\n",
    "    \n",
    "    whitelist = []\n",
    "    \n",
    "    #Checks all the edges on the maze.\n",
    "    for (i, j) in maze.edges():\n",
    "        \n",
    "        #If the edge has a good conductance according to the solver's algorithm\n",
    "        #    it is added to the whitelist list.\n",
    "        if(maze.edges[i, j]['path'].cond > Dt):\n",
    "            whitelist.append((i, j))\n",
    "        \n",
    "        #If it hasn't, the edge on the partNetwork is removed (if it exists).\n",
    "        else:\n",
    "            if(partNetwork.has_edge(i, j)):\n",
    "                partNetwork.remove_edge(i, j)\n",
    "            \n",
    "            elif(partNetwork.has_edge(j, i)):\n",
    "                partNetwork.remove_edge(j, i)\n",
    "    \n",
    "    #For every edge on the list:\n",
    "    while whitelist:\n",
    "        scoreImp = 0\n",
    "        bestCon = (0, 0)\n",
    "        \n",
    "        for (i, j) in whitelist:\n",
    "            \n",
    "            #Remove the edge on partNetwork, to guarantee the best direction for it.\n",
    "            if(partNetwork.has_edge(i, j)):\n",
    "                partNetwork.remove_edge(i, j)\n",
    "            \n",
    "            elif(partNetwork.has_edge(j, i)):\n",
    "                partNetwork.remove_edge(j, i)\n",
    "            \n",
    "            #If the edge from \"i\" to \"j\" doesn't add a cycle to the graph, \n",
    "            if(tryEdge(partNetwork, i, j) is True):\n",
    "                \n",
    "                #Calculate the score improvement of the addition.\n",
    "                score_ij = calcLocalScore(partNetwork, i, j)\n",
    "                \n",
    "            #Otherwise, if the addition would create a cycle, gives to the improvement\n",
    "            #    the worst score possible.\n",
    "            else:\n",
    "                score_ij = np.finfo(float).min\n",
    "            \n",
    "            #The same from the last couple of lines, checking the other direction of the edge.\n",
    "            if(tryEdge(partNetwork, j, i) is True):\n",
    "                score_ji = calcLocalScore(partNetwork, j, i)\n",
    "                \n",
    "            else:\n",
    "                score_ji = np.finfo(float).min\n",
    "                               \n",
    "            #Pick whichever direction would result in the best improvement on the network.\n",
    "            change = max(score_ij, score_ji)\n",
    "            \n",
    "            #Stores the best connection found so far.\n",
    "            if(change > scoreImp):\n",
    "                scoreImp = change\n",
    "                \n",
    "                if (score_ij >= score_ji):\n",
    "                    bestCon = (i, j)\n",
    "                    \n",
    "                else:\n",
    "                    bestCon = (j, i)\n",
    "        \n",
    "        #iIf no connections that improve the score were found.\n",
    "        if (bestCon == (0, 0)):\n",
    "           \n",
    "            #Gives feedback to the edge on the Physarum maze\n",
    "            for (i, j) in whitelist:\n",
    "                giveFeedback(i, j)\n",
    "            \n",
    "            #If the partNetwork's score is better than the found so far, overwrite it.\n",
    "            if (calcScore(partNetwork) > calcScore(bestNetwork)):\n",
    "                bestNetwork = partNetwork.copy()\n",
    "                \n",
    "            return\n",
    "        \n",
    "        #If there's a connection that improves the score\n",
    "        (i, j) = bestCon\n",
    "        \n",
    "        #Put it on the partNetwork\n",
    "        partNetwork.add_edge(i, j)\n",
    "        \n",
    "        #Remove it from the whitelist, and give feedback to the edge.\n",
    "        try:\n",
    "            whitelist.index((i, j))\n",
    "        \n",
    "        except ValueError:\n",
    "            del whitelist[whitelist.index((j, i))]\n",
    "            giveFeedback(j, i)\n",
    "        \n",
    "        else:\n",
    "            del whitelist[whitelist.index((i, j))]\n",
    "            giveFeedback(i, j)\n",
    "    \n",
    "    #If the partNetwork's score is better than the found so far, overwrite it.\n",
    "    if (calcScore(partNetwork) > calcScore(bestNetwork)):\n",
    "        bestNetwork = partNetwork.copy()\n",
    "        \n",
    "    return\n",
    "        \n"
   ]
  },
  {
   "cell_type": "markdown",
   "metadata": {},
   "source": [
    "### Update of the conductance\n",
    "\n",
    "In order to preserve the best connections found so far according to the score of the Bayesian network on the original maze, and to inhibit the worst ones to be chosen in the next iterations of the algorithm, a bias is introduced on the conductance calculation for each edge of the maze.\n"
   ]
  },
  {
   "cell_type": "code",
   "execution_count": 17,
   "metadata": {
    "ExecuteTime": {
     "end_time": "2019-04-22T19:06:11.806479Z",
     "start_time": "2019-04-22T19:06:11.790300Z"
    }
   },
   "outputs": [],
   "source": [
    "def giveFeedback(i, j):\n",
    "    \n",
    "    global maze\n",
    "    global partNetwork\n",
    "    global df\n",
    "    \n",
    "    #Local parameter\n",
    "    k = 3.0\n",
    "    \n",
    "    #Find which is the best direction to be added to the network.\n",
    "    score_ij = calcLocalScore(partNetwork, i, j)\n",
    "    \n",
    "    score_ji = calcLocalScore(partNetwork, j, i)\n",
    "    \n",
    "    #If the direction chosen is from \"i\" to \"j\"\n",
    "    if(score_ij >= score_ji):\n",
    "        \n",
    "        #Get \"j\" parents on the network.\n",
    "        auxlist = [df.columns[k] for k in partNetwork.predecessors(j)]\n",
    "        \n",
    "        if partNetwork.has_edge(i, j) is True:\n",
    "            \n",
    "            B = bdeu.local_score(df.columns[j], auxlist)\n",
    "            \n",
    "            index = auxlist.index(df.columns[i])\n",
    "            \n",
    "            del auxlist[index]\n",
    "            \n",
    "        #Calculate B.\n",
    "            B = B / bdeu.local_score(df.columns[j], auxlist)\n",
    "            \n",
    "        else:\n",
    "            \n",
    "            B = bdeu.local_score(df.columns[j], auxlist+[df.columns[i]]) / bdeu.local_score(df.columns[j], auxlist)\n",
    "    \n",
    "    #If the direction chosen is from \"j\" to \"i\"\n",
    "    else:\n",
    "        \n",
    "        #Get \"i\" parents on the network.\n",
    "        auxlist = [df.columns[k] for k in partNetwork.predecessors(i)]\n",
    "        \n",
    "        if partNetwork.has_edge(j, i) is True:\n",
    "            \n",
    "            B = bdeu.local_score(df.columns[i], auxlist)\n",
    "            \n",
    "            index = auxlist.index(df.columns[j])\n",
    "            \n",
    "            del auxlist[index]\n",
    "            \n",
    "        #Calculate B.\n",
    "            B = B / bdeu.local_score(df.columns[i], auxlist)\n",
    "            \n",
    "        else:\n",
    "            \n",
    "            B = bdeu.local_score(df.columns[i], auxlist+[df.columns[j]]) / bdeu.local_score(df.columns[i], auxlist)\n",
    "        \n",
    "    #Calculate the biased conductance\n",
    "    aux = maze.edges[i, j]['path'].cond + k*(1-B)\n",
    "    \n",
    "    #If the value is above the threshold of 2.5, it becomes 2.5.\n",
    "    if(aux >= 2.5):\n",
    "        maze.edges[i, j]['path'].cond = 2.5\n",
    "    \n",
    "    #If not, it becomes the biased value.\n",
    "    else:\n",
    "        maze.edges[i, j]['path'].cond = aux\n"
   ]
  },
  {
   "cell_type": "markdown",
   "metadata": {},
   "source": [
    "### Main function\n",
    "\n",
    "This is the main function of the program, from where it starts and where it finishes. The global structures are first set up here, as well as the parameters controlling the number of ensembles found and iterations for each of those. Important of note is that, after an ensemble is finished and before a new one is started, the maze has its conductances reset, and the _partNetwork_ is randomly reconnected."
   ]
  },
  {
   "cell_type": "code",
   "execution_count": 18,
   "metadata": {
    "ExecuteTime": {
     "end_time": "2019-04-22T19:07:30.166520Z",
     "start_time": "2019-04-22T19:06:12.076757Z"
    },
    "code_folding": []
   },
   "outputs": [
    {
     "name": "stdout",
     "output_type": "stream",
     "text": [
      "A -> E\n",
      "S -> B\n",
      "T -> E\n",
      "T -> A\n",
      "T -> B\n",
      "T -> X\n",
      "L -> E\n",
      "L -> S\n",
      "L -> X\n",
      "B -> D\n",
      "E -> X\n",
      "E -> D\n",
      "Final score ->  -11109.241257785368\n",
      "Time elapsed ->  77.62594223022461\n"
     ]
    }
   ],
   "source": [
    "def main():\n",
    "    \n",
    "    global maze\n",
    "    global bestNetwork, partNetwork\n",
    "    global bdeu, df\n",
    "    \n",
    "    #Number of ensembles created.\n",
    "    Ensemble = 1\n",
    "    \n",
    "    #Number of iterations for the construction of every ensemble.\n",
    "    MaxIt = 5\n",
    "    \n",
    "    #Initial setup of useful structures.\n",
    "    bestNetwork = None\n",
    "    \n",
    "    nodelist = []\n",
    "    edgeslist = []\n",
    "    \n",
    "    #Acquisition of data.\n",
    "    df = pd.read_csv(\"data_asia.csv\")\n",
    "    \n",
    "    bdeu = BdeuScore(df, equivalent_sample_size=5)\n",
    "    \n",
    "    #More setup.\n",
    "    num_nodes = len(df.columns)\n",
    "    \n",
    "    for i in range(num_nodes):\n",
    "        maze.add_node(i)\n",
    "        partNetwork.add_node(i, label=list(df.columns)[i])\n",
    "    \n",
    "    for i in range(num_nodes):\n",
    "        for j in range(i+1, num_nodes):\n",
    "            maze.add_edge(i, j, path=info(np.random.uniform(0.78, 0.79), 1))\n",
    "            \n",
    "            if(np.random.uniform(0, 1) < 0.5):\n",
    "                partNetwork.add_edge(i, j)\n",
    "                \n",
    "            else:\n",
    "                partNetwork.add_edge (j, i)\n",
    "    \n",
    "    #Start timer.\n",
    "    start = time.time()\n",
    "    \n",
    "    #*********Main loop.*********\n",
    "    \n",
    "    #For each ensemble to be built.\n",
    "    for e in range(Ensemble):\n",
    "        \n",
    "        #For each iteration.\n",
    "        for it in range(MaxIt):\n",
    "            \n",
    "            #Create list with every pair of nodes on the maze.\n",
    "            for i in range(num_nodes):\n",
    "                for j in range(i+1, num_nodes):\n",
    "                    nodelist.append((i, j))\n",
    "            \n",
    "            #While there are still pairs on the list.\n",
    "            while nodelist:\n",
    "                \n",
    "                #Pick a random pair and remove it from the list.\n",
    "                index = np.random.randint(0, len(nodelist))\n",
    "                \n",
    "                source, sink = nodelist.pop(index)\n",
    "                \n",
    "                #Perform one iteration of the Phsarum solver.\n",
    "                pPhySolve(source, sink)\n",
    "                \n",
    "                #If the conductance of the edge for this pair is below the threshold,\n",
    "                #    gives it a value above the threshold, in order to give it a chance\n",
    "                #    of entering the network.\n",
    "                if(maze.edges[source, sink]['path'].cond < Dt):\n",
    "                    maze.edges[source, sink]['path'].cond = Dt + 0.01\n",
    "                \n",
    "                #Evaluate the maze according to the conductances.\n",
    "                evaluate()\n",
    "                \n",
    "                #If the partNetwork's score is better than the found so far, overwrite it.\n",
    "                if (calcScore(partNetwork) > calcScore(bestNetwork)):\n",
    "                    bestNetwork = partNetwork.copy()\n",
    "        \n",
    "        #End of he iterations, the edges on the partNetwork are removed.\n",
    "        for (i, j) in partNetwork.edges():\n",
    "            edgeslist.append((i, j))\n",
    "            \n",
    "        for (i, j) in edgeslist:\n",
    "            partNetwork.remove_edge(i, j)\n",
    "            \n",
    "        del edgeslist[:]\n",
    "        \n",
    "        #The maze's conductances are reset, and the edges on partNetwork are randomly\n",
    "        #    Recreated.\n",
    "        for (i, j) in maze.edges():\n",
    "            maze.edges[i, j]['path'].cond = np.random.uniform(0.78, 0.79)\n",
    "            \n",
    "            if(np.random.uniform(0, 1) < 0.5):\n",
    "                partNetwork.add_edge(i, j)\n",
    "                \n",
    "            else:\n",
    "                partNetwork.add_edge (j, i)\n",
    "            \n",
    "    #End of the main loop.\n",
    "    \n",
    "    #Get the time elapsed\n",
    "    elapsed = time.time() - start\n",
    "       \n",
    "    #Print the edges of the best network found.\n",
    "    for (i, j) in bestNetwork.edges():\n",
    "        print(df.columns[i], \"->\", df.columns[j])\n",
    "    \n",
    "    #Print the score of the best network.\n",
    "    print(\"Final score -> \", calcScore(bestNetwork))\n",
    "    \n",
    "    #Print the time required for the main loop to complete.\n",
    "    print(\"Time elapsed -> \", elapsed)\n",
    "    \n",
    "if __name__ == \"__main__\":\n",
    "    main()\n"
   ]
  }
 ],
 "metadata": {
  "hide_input": false,
  "kernelspec": {
   "display_name": "Python 3",
   "language": "python",
   "name": "python3"
  },
  "language_info": {
   "codemirror_mode": {
    "name": "ipython",
    "version": 3
   },
   "file_extension": ".py",
   "mimetype": "text/x-python",
   "name": "python",
   "nbconvert_exporter": "python",
   "pygments_lexer": "ipython3",
   "version": "3.6.8"
  },
  "latex_envs": {
   "LaTeX_envs_menu_present": true,
   "autoclose": false,
   "autocomplete": true,
   "bibliofile": "biblio.bib",
   "cite_by": "apalike",
   "current_citInitial": 1,
   "eqLabelWithNumbers": true,
   "eqNumInitial": 1,
   "hotkeys": {
    "equation": "Ctrl-E",
    "itemize": "Ctrl-I"
   },
   "labels_anchors": false,
   "latex_user_defs": false,
   "report_style_numbering": false,
   "user_envs_cfg": false
  },
  "nbTranslate": {
   "displayLangs": [
    "*"
   ],
   "hotkey": "alt-t",
   "langInMainMenu": true,
   "sourceLang": "en",
   "targetLang": "fr",
   "useGoogleTranslate": true
  },
  "toc": {
   "base_numbering": 1,
   "nav_menu": {},
   "number_sections": true,
   "sideBar": true,
   "skip_h1_title": false,
   "title_cell": "Table of Contents",
   "title_sidebar": "Contents",
   "toc_cell": false,
   "toc_position": {},
   "toc_section_display": true,
   "toc_window_display": false
  },
  "varInspector": {
   "cols": {
    "lenName": 16,
    "lenType": 16,
    "lenVar": 40
   },
   "kernels_config": {
    "python": {
     "delete_cmd_postfix": "",
     "delete_cmd_prefix": "del ",
     "library": "var_list.py",
     "varRefreshCmd": "print(var_dic_list())"
    },
    "r": {
     "delete_cmd_postfix": ") ",
     "delete_cmd_prefix": "rm(",
     "library": "var_list.r",
     "varRefreshCmd": "cat(var_dic_list()) "
    }
   },
   "types_to_exclude": [
    "module",
    "function",
    "builtin_function_or_method",
    "instance",
    "_Feature"
   ],
   "window_display": false
  }
 },
 "nbformat": 4,
 "nbformat_minor": 2
}
